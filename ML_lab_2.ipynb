{
 "cells": [
  {
   "cell_type": "code",
   "execution_count": 1,
   "id": "848a0964",
   "metadata": {},
   "outputs": [],
   "source": [
    "import numpy as np\n",
    "import pandas as pd\n",
    "import matplotlib.pyplot as plt"
   ]
  },
  {
   "cell_type": "markdown",
   "id": "6184e34b",
   "metadata": {},
   "source": [
    "# Exercise – 1"
   ]
  },
  {
   "cell_type": "code",
   "execution_count": 2,
   "id": "1297e43e",
   "metadata": {},
   "outputs": [],
   "source": [
    "\n",
    "dict={'x':[0,0.5,1,1.5,2,2.5,3,3.5],'y':[2,1.5,1.5,1,1,0,-0.5,-2]}"
   ]
  },
  {
   "cell_type": "markdown",
   "id": "af994000",
   "metadata": {},
   "source": [
    "# Data"
   ]
  },
  {
   "cell_type": "code",
   "execution_count": 3,
   "id": "5698a18d",
   "metadata": {},
   "outputs": [
    {
     "data": {
      "text/html": [
       "<div>\n",
       "<style scoped>\n",
       "    .dataframe tbody tr th:only-of-type {\n",
       "        vertical-align: middle;\n",
       "    }\n",
       "\n",
       "    .dataframe tbody tr th {\n",
       "        vertical-align: top;\n",
       "    }\n",
       "\n",
       "    .dataframe thead th {\n",
       "        text-align: right;\n",
       "    }\n",
       "</style>\n",
       "<table border=\"1\" class=\"dataframe\">\n",
       "  <thead>\n",
       "    <tr style=\"text-align: right;\">\n",
       "      <th></th>\n",
       "      <th>x</th>\n",
       "      <th>y</th>\n",
       "    </tr>\n",
       "  </thead>\n",
       "  <tbody>\n",
       "    <tr>\n",
       "      <th>0</th>\n",
       "      <td>0.0</td>\n",
       "      <td>2.0</td>\n",
       "    </tr>\n",
       "    <tr>\n",
       "      <th>1</th>\n",
       "      <td>0.5</td>\n",
       "      <td>1.5</td>\n",
       "    </tr>\n",
       "    <tr>\n",
       "      <th>2</th>\n",
       "      <td>1.0</td>\n",
       "      <td>1.5</td>\n",
       "    </tr>\n",
       "    <tr>\n",
       "      <th>3</th>\n",
       "      <td>1.5</td>\n",
       "      <td>1.0</td>\n",
       "    </tr>\n",
       "    <tr>\n",
       "      <th>4</th>\n",
       "      <td>2.0</td>\n",
       "      <td>1.0</td>\n",
       "    </tr>\n",
       "    <tr>\n",
       "      <th>5</th>\n",
       "      <td>2.5</td>\n",
       "      <td>0.0</td>\n",
       "    </tr>\n",
       "    <tr>\n",
       "      <th>6</th>\n",
       "      <td>3.0</td>\n",
       "      <td>-0.5</td>\n",
       "    </tr>\n",
       "    <tr>\n",
       "      <th>7</th>\n",
       "      <td>3.5</td>\n",
       "      <td>-2.0</td>\n",
       "    </tr>\n",
       "  </tbody>\n",
       "</table>\n",
       "</div>"
      ],
      "text/plain": [
       "     x    y\n",
       "0  0.0  2.0\n",
       "1  0.5  1.5\n",
       "2  1.0  1.5\n",
       "3  1.5  1.0\n",
       "4  2.0  1.0\n",
       "5  2.5  0.0\n",
       "6  3.0 -0.5\n",
       "7  3.5 -2.0"
      ]
     },
     "execution_count": 3,
     "metadata": {},
     "output_type": "execute_result"
    }
   ],
   "source": [
    "\n",
    "data=pd.DataFrame(dict)\n",
    "data"
   ]
  },
  {
   "cell_type": "markdown",
   "id": "c04ac302",
   "metadata": {},
   "source": [
    "# Mean"
   ]
  },
  {
   "cell_type": "code",
   "execution_count": 4,
   "id": "5b72801b",
   "metadata": {},
   "outputs": [
    {
     "name": "stdout",
     "output_type": "stream",
     "text": [
      "X mean : 1.75 \n",
      "Y mean : 0.5625\n"
     ]
    }
   ],
   "source": [
    "xmean=np.mean(data['x'])\n",
    "ymean=np.mean(data['y'])\n",
    "print('X mean :',xmean,\"\\nY mean :\",ymean)"
   ]
  },
  {
   "cell_type": "code",
   "execution_count": 5,
   "id": "b8d2c264",
   "metadata": {},
   "outputs": [
    {
     "data": {
      "text/plain": [
       "[-1.75, -1.25, -0.75, -0.25, 0.25, 0.75, 1.25, 1.75]"
      ]
     },
     "execution_count": 5,
     "metadata": {},
     "output_type": "execute_result"
    }
   ],
   "source": [
    "x_xmean=[]\n",
    "for i in data['x']:\n",
    "#     print(i)\n",
    "    x_xmean.append(i-xmean)\n",
    "x_xmean"
   ]
  },
  {
   "cell_type": "code",
   "execution_count": 6,
   "id": "fd1b8596",
   "metadata": {},
   "outputs": [
    {
     "data": {
      "text/plain": [
       "[1.4375, 0.9375, 0.9375, 0.4375, 0.4375, -0.5625, -1.0625, -2.5625]"
      ]
     },
     "execution_count": 6,
     "metadata": {},
     "output_type": "execute_result"
    }
   ],
   "source": [
    "y_ymean=[]\n",
    "for i in data['y']:\n",
    "    y_ymean.append(i-ymean)\n",
    "y_ymean"
   ]
  },
  {
   "cell_type": "code",
   "execution_count": 7,
   "id": "3ae641d0",
   "metadata": {},
   "outputs": [
    {
     "data": {
      "text/plain": [
       "[3.0625, 1.5625, 0.5625, 0.0625, 0.0625, 0.5625, 1.5625, 3.0625]"
      ]
     },
     "execution_count": 7,
     "metadata": {},
     "output_type": "execute_result"
    }
   ],
   "source": [
    "x_xmean_sq=[]\n",
    "for i in x_xmean:\n",
    "    x_xmean_sq.append(i**2)\n",
    "x_xmean_sq"
   ]
  },
  {
   "cell_type": "markdown",
   "id": "70e7dbd1",
   "metadata": {},
   "source": [
    "# Denom_sum"
   ]
  },
  {
   "cell_type": "code",
   "execution_count": 8,
   "id": "6f1e80a3",
   "metadata": {},
   "outputs": [
    {
     "data": {
      "text/plain": [
       "10.5"
      ]
     },
     "execution_count": 8,
     "metadata": {},
     "output_type": "execute_result"
    }
   ],
   "source": [
    "denom_sum=0\n",
    "for i in x_xmean_sq:\n",
    "    denom_sum=denom_sum+i\n",
    "denom_sum"
   ]
  },
  {
   "cell_type": "code",
   "execution_count": 9,
   "id": "81f36380",
   "metadata": {},
   "outputs": [
    {
     "data": {
      "text/plain": [
       "[-2.515625,\n",
       " -1.171875,\n",
       " -0.703125,\n",
       " -0.109375,\n",
       " 0.109375,\n",
       " -0.421875,\n",
       " -1.328125,\n",
       " -4.484375]"
      ]
     },
     "execution_count": 9,
     "metadata": {},
     "output_type": "execute_result"
    }
   ],
   "source": [
    "num_mul=[]\n",
    "for i,j in zip(x_xmean,y_ymean):\n",
    "    num_mul.append(i*j)\n",
    "num_mul"
   ]
  },
  {
   "cell_type": "markdown",
   "id": "a9fb6bc2",
   "metadata": {},
   "source": [
    "# Numerator Sum"
   ]
  },
  {
   "cell_type": "code",
   "execution_count": 10,
   "id": "37c7e482",
   "metadata": {},
   "outputs": [
    {
     "data": {
      "text/plain": [
       "-10.625"
      ]
     },
     "execution_count": 10,
     "metadata": {},
     "output_type": "execute_result"
    }
   ],
   "source": [
    "num_sum=0\n",
    "for i in num_mul:\n",
    "    num_sum=num_sum+i\n",
    "num_sum"
   ]
  },
  {
   "cell_type": "code",
   "execution_count": 11,
   "id": "eba7f1c5",
   "metadata": {},
   "outputs": [
    {
     "data": {
      "text/plain": [
       "-1.0119047619047619"
      ]
     },
     "execution_count": 11,
     "metadata": {},
     "output_type": "execute_result"
    }
   ],
   "source": [
    "beta=num_sum/denom_sum\n",
    "beta"
   ]
  },
  {
   "cell_type": "code",
   "execution_count": 12,
   "id": "2eb00e8a",
   "metadata": {},
   "outputs": [
    {
     "data": {
      "text/plain": [
       "-1.7708333333333333"
      ]
     },
     "execution_count": 12,
     "metadata": {},
     "output_type": "execute_result"
    }
   ],
   "source": [
    "B_xmean=beta*xmean\n",
    "B_xmean"
   ]
  },
  {
   "cell_type": "markdown",
   "id": "ab886538",
   "metadata": {},
   "source": [
    "## Alpha"
   ]
  },
  {
   "cell_type": "code",
   "execution_count": 13,
   "id": "609d89e8",
   "metadata": {},
   "outputs": [
    {
     "data": {
      "text/plain": [
       "2.333333333333333"
      ]
     },
     "execution_count": 13,
     "metadata": {},
     "output_type": "execute_result"
    }
   ],
   "source": [
    "alpha=ymean-B_xmean\n",
    "alpha"
   ]
  },
  {
   "cell_type": "code",
   "execution_count": 14,
   "id": "0f90ce15",
   "metadata": {},
   "outputs": [
    {
     "data": {
      "image/png": "[encoded data removed]",
      "text/plain": [
       "<Figure size 600x300 with 1 Axes>"
      ]
     },
     "metadata": {},
     "output_type": "display_data"
    }
   ],
   "source": [
    "plt.figure(figsize=(6,3))\n",
    "plt.scatter(data['x'],data['y'],color='skyblue',label='DataPoints')\n",
    "plt.plot(alpha,beta,color='green',linestyle='--',label='Alpha_beta_line')\n",
    "plt.xlabel('X')\n",
    "plt.ylabel('Y')\n",
    "plt.legend()\n",
    "plt.show()"
   ]
  },
  {
   "cell_type": "markdown",
   "id": "124c08dc",
   "metadata": {},
   "source": [
    "# Exercise - 2"
   ]
  },
  {
   "cell_type": "code",
   "execution_count": 15,
   "id": "5f11a1ac",
   "metadata": {},
   "outputs": [],
   "source": [
    "import numpy as np\n",
    "import pandas as pd\n",
    "import matplotlib.pyplot as plt\n"
   ]
  },
  {
   "cell_type": "code",
   "execution_count": 16,
   "id": "80e54b87",
   "metadata": {
    "scrolled": true
   },
   "outputs": [
    {
     "data": {
      "text/html": [
       "<div>\n",
       "<style scoped>\n",
       "    .dataframe tbody tr th:only-of-type {\n",
       "        vertical-align: middle;\n",
       "    }\n",
       "\n",
       "    .dataframe tbody tr th {\n",
       "        vertical-align: top;\n",
       "    }\n",
       "\n",
       "    .dataframe thead th {\n",
       "        text-align: right;\n",
       "    }\n",
       "</style>\n",
       "<table border=\"1\" class=\"dataframe\">\n",
       "  <thead>\n",
       "    <tr style=\"text-align: right;\">\n",
       "      <th></th>\n",
       "      <th>X1</th>\n",
       "      <th>X2</th>\n",
       "      <th>Y</th>\n",
       "    </tr>\n",
       "  </thead>\n",
       "  <tbody>\n",
       "    <tr>\n",
       "      <th>0</th>\n",
       "      <td>60</td>\n",
       "      <td>22</td>\n",
       "      <td>140</td>\n",
       "    </tr>\n",
       "    <tr>\n",
       "      <th>1</th>\n",
       "      <td>62</td>\n",
       "      <td>25</td>\n",
       "      <td>155</td>\n",
       "    </tr>\n",
       "    <tr>\n",
       "      <th>2</th>\n",
       "      <td>67</td>\n",
       "      <td>24</td>\n",
       "      <td>159</td>\n",
       "    </tr>\n",
       "    <tr>\n",
       "      <th>3</th>\n",
       "      <td>70</td>\n",
       "      <td>20</td>\n",
       "      <td>179</td>\n",
       "    </tr>\n",
       "    <tr>\n",
       "      <th>4</th>\n",
       "      <td>71</td>\n",
       "      <td>15</td>\n",
       "      <td>192</td>\n",
       "    </tr>\n",
       "    <tr>\n",
       "      <th>5</th>\n",
       "      <td>72</td>\n",
       "      <td>14</td>\n",
       "      <td>200</td>\n",
       "    </tr>\n",
       "    <tr>\n",
       "      <th>6</th>\n",
       "      <td>75</td>\n",
       "      <td>14</td>\n",
       "      <td>212</td>\n",
       "    </tr>\n",
       "    <tr>\n",
       "      <th>7</th>\n",
       "      <td>78</td>\n",
       "      <td>11</td>\n",
       "      <td>215</td>\n",
       "    </tr>\n",
       "  </tbody>\n",
       "</table>\n",
       "</div>"
      ],
      "text/plain": [
       "   X1  X2    Y\n",
       "0  60  22  140\n",
       "1  62  25  155\n",
       "2  67  24  159\n",
       "3  70  20  179\n",
       "4  71  15  192\n",
       "5  72  14  200\n",
       "6  75  14  212\n",
       "7  78  11  215"
      ]
     },
     "execution_count": 16,
     "metadata": {},
     "output_type": "execute_result"
    }
   ],
   "source": [
    "\n",
    "df={'X1':[60,62,67,70,71,72,75,78],'X2':[22,25,24,20,15,14,14,11],'Y':[140,155,159,179,192,200,212,215]}\n",
    "data=pd.DataFrame(df)\n",
    "data"
   ]
  },
  {
   "cell_type": "code",
   "execution_count": 17,
   "id": "73171377",
   "metadata": {},
   "outputs": [],
   "source": [
    "theta0=0.1\n",
    "theta1=0.5\n",
    "theta2=0.2"
   ]
  },
  {
   "cell_type": "markdown",
   "id": "3ed0cf04",
   "metadata": {},
   "source": [
    "# hypothesis"
   ]
  },
  {
   "cell_type": "code",
   "execution_count": 18,
   "id": "94a2b5d5",
   "metadata": {},
   "outputs": [],
   "source": [
    "def hyp(x1,x2,theta0,theta1,theta2):\n",
    "    \n",
    "    return [theta0 + theta1*i+theta2*j for i,j in zip(x1,x2)]\n",
    "\n",
    "hypo=hyp(data['X1'],data['X2'],theta0,theta1,theta2)\n"
   ]
  },
  {
   "cell_type": "markdown",
   "id": "a398fe66",
   "metadata": {},
   "source": [
    "## MSE"
   ]
  },
  {
   "cell_type": "code",
   "execution_count": 19,
   "id": "41cd8a1c",
   "metadata": {},
   "outputs": [],
   "source": [
    "def MSE(prediction,target):\n",
    "    m=len(data)\n",
    "    error=0.0\n",
    "    for prediction,target in zip(prediction,target):\n",
    "        error+=(prediction-target)**2\n",
    "        \n",
    "    mae_error=(1.0/(2*m))*error\n",
    "    return mae_error"
   ]
  },
  {
   "cell_type": "code",
   "execution_count": 20,
   "id": "2e2d4156",
   "metadata": {},
   "outputs": [
    {
     "data": {
      "text/plain": [
       "10530.428125"
      ]
     },
     "execution_count": 20,
     "metadata": {},
     "output_type": "execute_result"
    }
   ],
   "source": [
    "MSE_error=MSE(hypo,data['Y'])\n",
    "MSE_error"
   ]
  },
  {
   "cell_type": "code",
   "execution_count": 21,
   "id": "c914d2bf",
   "metadata": {},
   "outputs": [],
   "source": [
    "def gdc_0(m,theta0,theta1,theta2,alpha=0.02):\n",
    "    \n",
    "    for i in range(1,m):\n",
    "        predict=hyp(data['X1'],data['X2'],theta0,theta1,theta2)\n",
    "        mse2_error=MSE(predict,data['Y'])\n",
    "        theta_0-=(alpha/m)*mse2_error\n",
    "        theta_0_list.append(theta_0)\n",
    "    return theta_0_list  "
   ]
  },
  {
   "cell_type": "code",
   "execution_count": 22,
   "id": "40be82f6",
   "metadata": {},
   "outputs": [],
   "source": [
    "def gdc_1(m,theta0,theta1,theta2,alpha=0.02):\n",
    "    \n",
    "    for i in range(1,m):\n",
    "        predict=hyp(data['X1'],data['X2'],theta0,theta1,theta2)\n",
    "        mse2_error=MSE(predict,data['Y'])\n",
    "        theta_1-=(alpha/m)*mse2_error\n",
    "        theta_1_list.append(theta_1)\n",
    "        \n",
    "    return theta_1_list  "
   ]
  },
  {
   "cell_type": "code",
   "execution_count": 23,
   "id": "042ac3f2",
   "metadata": {},
   "outputs": [],
   "source": [
    "import numpy as np\n",
    "from sklearn.linear_model import LinearRegression"
   ]
  },
  {
   "cell_type": "code",
   "execution_count": 24,
   "id": "c8366b0f",
   "metadata": {},
   "outputs": [],
   "source": [
    "X=np.array([[60,22],[62,25],[67,24],[70,20],[71,15],[72,14],[75,14],[78,11]])"
   ]
  },
  {
   "cell_type": "code",
   "execution_count": 25,
   "id": "34a5b84c",
   "metadata": {},
   "outputs": [
    {
     "data": {
      "text/plain": [
       "array([[60, 22],\n",
       "       [62, 25],\n",
       "       [67, 24],\n",
       "       [70, 20],\n",
       "       [71, 15],\n",
       "       [72, 14],\n",
       "       [75, 14],\n",
       "       [78, 11]])"
      ]
     },
     "execution_count": 25,
     "metadata": {},
     "output_type": "execute_result"
    }
   ],
   "source": [
    "X"
   ]
  },
  {
   "cell_type": "markdown",
   "id": "2788a335",
   "metadata": {},
   "source": [
    "reg=LinearRegression().fit(X,data['Y'])\n",
    "reg"
   ]
  },
  {
   "cell_type": "code",
   "execution_count": 27,
   "id": "972c021c",
   "metadata": {},
   "outputs": [
    {
     "data": {
      "text/plain": [
       "0.9626163798011392"
      ]
     },
     "execution_count": 27,
     "metadata": {},
     "output_type": "execute_result"
    }
   ],
   "source": [
    "reg.score(X, data['Y'])"
   ]
  },
  {
   "cell_type": "code",
   "execution_count": 28,
   "id": "d535750a",
   "metadata": {},
   "outputs": [
    {
     "data": {
      "text/plain": [
       "array([ 3.1478931 , -1.65614327])"
      ]
     },
     "execution_count": 28,
     "metadata": {},
     "output_type": "execute_result"
    }
   ],
   "source": [
    "reg.coef_"
   ]
  },
  {
   "cell_type": "code",
   "execution_count": 29,
   "id": "54dda93a",
   "metadata": {},
   "outputs": [
    {
     "data": {
      "text/plain": [
       "array([-5.70452428])"
      ]
     },
     "execution_count": 29,
     "metadata": {},
     "output_type": "execute_result"
    }
   ],
   "source": [
    "reg.predict(np.array([[3, 5]]))"
   ]
  },
  {
   "cell_type": "code",
   "execution_count": null,
   "id": "84b76adb",
   "metadata": {},
   "outputs": [],
   "source": [
    "\n"
   ]
  },
  {
   "cell_type": "code",
   "execution_count": null,
   "id": "cd53cf92",
   "metadata": {},
   "outputs": [],
   "source": []
  },
  {
   "cell_type": "code",
   "execution_count": null,
   "id": "11a19c5d",
   "metadata": {},
   "outputs": [],
   "source": []
  },
  {
   "cell_type": "markdown",
   "id": "89c28da9",
   "metadata": {},
   "source": [
    "# Final "
   ]
  },
  {
   "cell_type": "code",
   "execution_count": 30,
   "id": "154fffc5",
   "metadata": {},
   "outputs": [
    {
     "name": "stdout",
     "output_type": "stream",
     "text": [
      "X mean: 1.75\n",
      "Y mean: 0.5625\n",
      "Slope (beta): -1.0119047619047619\n",
      "Intercept (alpha): 2.333333333333333\n"
     ]
    },
    {
     "data": {
      "image/png": "[encoded data removed]",
      "text/plain": [
       "<Figure size 600x300 with 1 Axes>"
      ]
     },
     "metadata": {},
     "output_type": "display_data"
    }
   ],
   "source": [
    "import numpy as np\n",
    "import pandas as pd\n",
    "import matplotlib.pyplot as plt\n",
    "\n",
    "# Given data\n",
    "data = pd.DataFrame({'x': [0, 0.5, 1, 1.5, 2, 2.5, 3, 3.5],\n",
    "                     'y': [2, 1.5, 1.5, 1, 1, 0, -0.5, -2]})\n",
    "\n",
    "# Calculate means of x and y\n",
    "xmean = np.mean(data['x'])\n",
    "ymean = np.mean(data['y'])\n",
    "print('X mean:', xmean)\n",
    "print('Y mean:', ymean)\n",
    "\n",
    "# Calculate numerator and denominator for slope (beta)\n",
    "data['x_xmean'] = data['x'] - xmean\n",
    "data['y_ymean'] = data['y'] - ymean\n",
    "data['x_xmean_sq'] = data['x_xmean'] ** 2\n",
    "data['x_xmean_y_ymean'] = data['x_xmean'] * data['y_ymean']\n",
    "\n",
    "numerator = data['x_xmean_y_ymean'].sum()\n",
    "denominator = data['x_xmean_sq'].sum()\n",
    "\n",
    "beta = numerator / denominator  # Slope\n",
    "alpha = ymean - beta * xmean    # Intercept\n",
    "\n",
    "print('Slope (beta):', beta)\n",
    "print('Intercept (alpha):', alpha)\n",
    "\n",
    "# Plotting\n",
    "plt.figure(figsize=(6, 3))\n",
    "plt.scatter(data['x'], data['y'], color='skyblue', label='Data Points')\n",
    "plt.plot(data['x'], alpha + beta * data['x'], color='green', linestyle='--', label='Regression Line')\n",
    "plt.xlabel('X')\n",
    "plt.ylabel('Y')\n",
    "plt.legend()\n",
    "plt.show()\n"
   ]
  },
  {
   "cell_type": "code",
   "execution_count": 34,
   "id": "c3c4c5eb",
   "metadata": {},
   "outputs": [
    {
     "name": "stdout",
     "output_type": "stream",
     "text": [
      "Final theta0: 0.04590901117027955\n",
      "Final theta1: 2.6277355408816194\n",
      "Predictions:\n",
      "0    157.710041\n",
      "1    162.965513\n",
      "2    176.104190\n",
      "3    183.987397\n",
      "4    186.615132\n",
      "5    189.242868\n",
      "6    197.126075\n",
      "7    205.009281\n",
      "Name: X, dtype: float64\n",
      "R-squared (Accuracy): 78.68%\n"
     ]
    },
    {
     "data": {
      "image/png": "[encoded data removed]",
      "text/plain": [
       "<Figure size 640x480 with 1 Axes>"
      ]
     },
     "metadata": {},
     "output_type": "display_data"
    },
    {
     "data": {
      "image/png": "[encoded data removed]",
      "text/plain": [
       "<Figure size 640x480 with 1 Axes>"
      ]
     },
     "metadata": {},
     "output_type": "display_data"
    }
   ],
   "source": [
    "import numpy as np\n",
    "import pandas as pd\n",
    "import matplotlib.pyplot as plt\n",
    "\n",
    "# Given data\n",
    "df = {\n",
    "    'X': [60, 62, 67, 70, 71, 72, 75, 78],\n",
    "    'Y': [140, 155, 159, 179, 192, 200, 212, 215]\n",
    "}\n",
    "data = pd.DataFrame(df)\n",
    "\n",
    "# Hypothesis function\n",
    "def hypothesis(x, theta0, theta1):\n",
    "    return theta0 + theta1 * x\n",
    "\n",
    "# Mean Squared Error (MSE) function\n",
    "def MSE(predictions, targets):\n",
    "    m = len(targets)\n",
    "    return (1 / (2 * m)) * np.sum((predictions - targets) ** 2)\n",
    "\n",
    "# Gradient Descent function\n",
    "def gradient_descent(data, theta0, theta1, alpha, iterations):\n",
    "    m = len(data)\n",
    "    cost_history = []\n",
    "    theta0_history, theta1_history = [theta0], [theta1]\n",
    "\n",
    "    for _ in range(iterations):\n",
    "        predictions = hypothesis(data['X'], theta0, theta1)\n",
    "        error = predictions - data['Y']\n",
    "\n",
    "        # Update parameters\n",
    "        theta0 -= alpha * (1 / m) * np.sum(error)\n",
    "        theta1 -= alpha * (1 / m) * np.sum(error * data['X'])\n",
    "\n",
    "        # Append to history for visualization\n",
    "        cost_history.append(MSE(predictions, data['Y']))\n",
    "        theta0_history.append(theta0)\n",
    "        theta1_history.append(theta1)\n",
    "\n",
    "    return theta0, theta1, cost_history, theta0_history, theta1_history\n",
    "\n",
    "# Initial parameters\n",
    "theta0, theta1 = 0.1, 0.5\n",
    "alpha = 0.0001  # Learning rate\n",
    "iterations = 1000\n",
    "\n",
    "# Perform gradient descent\n",
    "final_theta0, final_theta1, cost_history, _, _ = gradient_descent(data, theta0, theta1, alpha, iterations)\n",
    "\n",
    "# Print final parameters\n",
    "print(f\"Final theta0: {final_theta0}\")\n",
    "print(f\"Final theta1: {final_theta1}\")\n",
    "\n",
    "# Predictions\n",
    "predictions = hypothesis(data['X'], final_theta0, final_theta1)\n",
    "print(\"Predictions:\")\n",
    "print(predictions)\n",
    "\n",
    "# Calculate R-squared accuracy\n",
    "ss_total = np.sum((data['Y'] - np.mean(data['Y'])) ** 2)\n",
    "ss_residual = np.sum((data['Y'] - predictions) ** 2)\n",
    "r_squared = 1 - (ss_residual / ss_total)\n",
    "print(f\"R-squared (Accuracy): {r_squared * 100:.2f}%\")\n",
    "\n",
    "# Plot cost convergence\n",
    "plt.plot(range(len(cost_history)), cost_history)\n",
    "plt.xlabel('Iterations')\n",
    "plt.ylabel('Cost (MSE)')\n",
    "plt.title('Cost Function Convergence')\n",
    "plt.show()\n",
    "\n",
    "# Plot predictions\n",
    "plt.scatter(data['X'], data['Y'], color='blue', label='Data Points')\n",
    "plt.plot(data['X'], predictions, color='red', label='Regression Line')\n",
    "plt.xlabel('X')\n",
    "plt.ylabel('Y')\n",
    "plt.legend()\n",
    "plt.title('Linear Regression Fit')\n",
    "plt.show()\n"
   ]
  },
  {
   "cell_type": "code",
   "execution_count": null,
   "id": "03c647c0",
   "metadata": {},
   "outputs": [],
   "source": []
  }
 ],
 "metadata": {
  "kernelspec": {
   "display_name": "Python 3 (ipykernel)",
   "language": "python",
   "name": "python3"
  },
  "language_info": {
   "codemirror_mode": {
    "name": "ipython",
    "version": 3
   },
   "file_extension": ".py",
   "mimetype": "text/x-python",
   "name": "python",
   "nbconvert_exporter": "python",
   "pygments_lexer": "ipython3",
   "version": "3.11.4"
  }
 },
 "nbformat": 4,
 "nbformat_minor": 5
}
