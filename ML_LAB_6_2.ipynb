{
 "cells": [
  {
   "cell_type": "markdown",
   "id": "cd15fafe",
   "metadata": {},
   "source": [
    "# Question no 1"
   ]
  },
  {
   "cell_type": "code",
   "execution_count": 64,
   "id": "d0e7a71b",
   "metadata": {},
   "outputs": [],
   "source": [
    "import pandas as pd\n",
    "import numpy as np\n",
    "import matplotlib.pyplot as plt\n",
    "from sklearn.metrics import accuracy_score"
   ]
  },
  {
   "cell_type": "code",
   "execution_count": 65,
   "id": "66096250",
   "metadata": {},
   "outputs": [],
   "source": [
    "\n",
    "data1={'Outlook':[0,0,1,2,2,2,1,0,0,2],\n",
    "      'Temperature':[0,0,0,1,2,2,2,1,2,1],\n",
    "      'Humidity':[1,1,1,1,0,0,0,1,0,0] ,\n",
    "      'Wind':[0,1,0,0,0,1,1,0,0,0] ,\n",
    "      'PlayTennis':[0,0,1,1,1,0,1,0,1,1]\n",
    "     }"
   ]
  },
  {
   "cell_type": "code",
   "execution_count": 66,
   "id": "3dc6c854",
   "metadata": {},
   "outputs": [],
   "source": [
    "\n",
    "Xx=pd.DataFrame(data1)"
   ]
  },
  {
   "cell_type": "code",
   "execution_count": 67,
   "id": "50345afd",
   "metadata": {
    "scrolled": true
   },
   "outputs": [],
   "source": [
    "\n",
    "Total_len=len(Xx['PlayTennis'])"
   ]
  },
  {
   "cell_type": "code",
   "execution_count": 68,
   "id": "72460f90",
   "metadata": {},
   "outputs": [],
   "source": [
    "\n",
    "def find_unique(feature):\n",
    "    unique_val=Xx[feature].unique()\n",
    "    return unique_val\n"
   ]
  },
  {
   "cell_type": "code",
   "execution_count": 69,
   "id": "5a5b4ec5",
   "metadata": {},
   "outputs": [],
   "source": [
    "\n",
    "def find_unique_count(feature):\n",
    "    unique_count=Xx[feature].value_counts()\n",
    "    dict1=dict(unique_count)\n",
    "    return dict1"
   ]
  },
  {
   "cell_type": "code",
   "execution_count": 70,
   "id": "7ba29c2c",
   "metadata": {},
   "outputs": [],
   "source": [
    "\n",
    "def probibilites(feature):\n",
    "    unique=find_unique(feature)\n",
    "    unique_count=find_unique_count(feature)\n",
    "    length=len(unique_count)\n",
    "    list1=[]\n",
    "    for i in unique:\n",
    "        prob=unique_count[i]/Total_len\n",
    "        list1.append(prob)\n",
    "    return list1"
   ]
  },
  {
   "cell_type": "code",
   "execution_count": 71,
   "id": "c1719279",
   "metadata": {},
   "outputs": [
    {
     "data": {
      "text/plain": [
       "[0.4, 0.6]"
      ]
     },
     "execution_count": 71,
     "metadata": {},
     "output_type": "execute_result"
    }
   ],
   "source": [
    "\n",
    "probibilites('PlayTennis')"
   ]
  },
  {
   "cell_type": "code",
   "execution_count": 72,
   "id": "4a0e0324",
   "metadata": {},
   "outputs": [],
   "source": [
    "\n",
    "unique_y=find_unique('PlayTennis')\n",
    "unique_count_y=find_unique_count('PlayTennis')\n"
   ]
  },
  {
   "cell_type": "code",
   "execution_count": 73,
   "id": "75a8ad45",
   "metadata": {},
   "outputs": [
    {
     "data": {
      "text/plain": [
       "array([0, 1], dtype=int64)"
      ]
     },
     "execution_count": 73,
     "metadata": {},
     "output_type": "execute_result"
    }
   ],
   "source": [
    "\n",
    "unique_y"
   ]
  },
  {
   "cell_type": "code",
   "execution_count": 74,
   "id": "5be224ac",
   "metadata": {},
   "outputs": [
    {
     "data": {
      "text/plain": [
       "{1: 6, 0: 4}"
      ]
     },
     "execution_count": 74,
     "metadata": {},
     "output_type": "execute_result"
    }
   ],
   "source": [
    "\n",
    "unique_count_y"
   ]
  },
  {
   "cell_type": "code",
   "execution_count": 75,
   "id": "586307a4",
   "metadata": {},
   "outputs": [
    {
     "data": {
      "text/plain": [
       "[0.4, 0.6]"
      ]
     },
     "execution_count": 75,
     "metadata": {},
     "output_type": "execute_result"
    }
   ],
   "source": [
    "probibilites('PlayTennis')\n"
   ]
  },
  {
   "cell_type": "markdown",
   "id": "49fee13f",
   "metadata": {},
   "source": [
    "# For Feature"
   ]
  },
  {
   "cell_type": "code",
   "execution_count": 76,
   "id": "188a9377",
   "metadata": {},
   "outputs": [],
   "source": [
    "def probabilities_features(feature):\n",
    "    unique_count = find_unique_count(feature)\n",
    "    unique_count_y = find_unique_count('PlayTennis')\n",
    "    \n",
    "    prob_dict = {}\n",
    "    \n",
    "    for i in unique_count:\n",
    "        prob_list = []\n",
    "        for j in unique_count_y:\n",
    "            if j == 0:\n",
    "                prob = 0\n",
    "            else:\n",
    "                prob = unique_count[i] / unique_count_y[j]\n",
    "            prob_list.append(prob)\n",
    "        prob_dict[i] = prob_list\n",
    "    \n",
    "    return prob_dict"
   ]
  },
  {
   "cell_type": "code",
   "execution_count": 77,
   "id": "ce2985b3",
   "metadata": {},
   "outputs": [],
   "source": [
    "def predict(features):\n",
    "    prior_probs = probibilites('PlayTennis')\n",
    "    conditional_probs = {}\n",
    "    \n",
    "    for feature in ['Outlook', 'Temperature', 'Humidity', 'Wind']:\n",
    "        conditional_probs[feature] = probabilities_features(feature)\n",
    "\n",
    "    prob_class_0 = prior_probs[0]\n",
    "    prob_class_1 = prior_probs[1]\n",
    "\n",
    "    for i, feature in enumerate(['Outlook', 'Temperature', 'Humidity', 'Wind']):\n",
    "        value = features[i]\n",
    "        prob_class_0 *= conditional_probs[feature][value][0]\n",
    "        prob_class_1 *= conditional_probs[feature][value][1]\n",
    "\n",
    "    total_prob = prob_class_0 + prob_class_1\n",
    "    if total_prob == 0:\n",
    "        return None\n",
    "\n",
    "    posterior_prob_0 = prob_class_0 / total_prob\n",
    "    posterior_prob_1 = prob_class_1 / total_prob\n",
    "\n",
    "    return 0 if posterior_prob_0 > posterior_prob_1 else 1\n"
   ]
  },
  {
   "cell_type": "code",
   "execution_count": 78,
   "id": "4fcc4400",
   "metadata": {
    "scrolled": true
   },
   "outputs": [
    {
     "name": "stdout",
     "output_type": "stream",
     "text": [
      "Predicted class : 0\n"
     ]
    }
   ],
   "source": [
    "features = [0, 1, 1, 0]  # Example feature values: Outlook=0, Temperature=1, Humidity=1, Wind=0\n",
    "prediction = predict(features)\n",
    "print(\"Predicted class :\", prediction)"
   ]
  },
  {
   "cell_type": "markdown",
   "id": "ee18d20c",
   "metadata": {},
   "source": [
    "# Question 2"
   ]
  },
  {
   "cell_type": "code",
   "execution_count": 79,
   "id": "c8468f1b",
   "metadata": {},
   "outputs": [],
   "source": [
    "from sklearn.naive_bayes import CategoricalNB"
   ]
  },
  {
   "cell_type": "code",
   "execution_count": 80,
   "id": "5b72f66f",
   "metadata": {},
   "outputs": [],
   "source": [
    "X=Xx[['Outlook','Temperature','Humidity','Wind']]\n",
    "Y=Xx['PlayTennis']"
   ]
  },
  {
   "cell_type": "code",
   "execution_count": 81,
   "id": "97a22888",
   "metadata": {},
   "outputs": [],
   "source": [
    "C=CategoricalNB()"
   ]
  },
  {
   "cell_type": "code",
   "execution_count": 82,
   "id": "44a688c6",
   "metadata": {},
   "outputs": [
    {
     "data": {
      "text/html": [
       "<style>#sk-container-id-3 {color: black;}#sk-container-id-3 pre{padding: 0;}#sk-container-id-3 div.sk-toggleable {background-color: white;}#sk-container-id-3 label.sk-toggleable__label {cursor: pointer;display: block;width: 100%;margin-bottom: 0;padding: 0.3em;box-sizing: border-box;text-align: center;}#sk-container-id-3 label.sk-toggleable__label-arrow:before {content: \"▸\";float: left;margin-right: 0.25em;color: #696969;}#sk-container-id-3 label.sk-toggleable__label-arrow:hover:before {color: black;}#sk-container-id-3 div.sk-estimator:hover label.sk-toggleable__label-arrow:before {color: black;}#sk-container-id-3 div.sk-toggleable__content {max-height: 0;max-width: 0;overflow: hidden;text-align: left;background-color: #f0f8ff;}#sk-container-id-3 div.sk-toggleable__content pre {margin: 0.2em;color: black;border-radius: 0.25em;background-color: #f0f8ff;}#sk-container-id-3 input.sk-toggleable__control:checked~div.sk-toggleable__content {max-height: 200px;max-width: 100%;overflow: auto;}#sk-container-id-3 input.sk-toggleable__control:checked~label.sk-toggleable__label-arrow:before {content: \"▾\";}#sk-container-id-3 div.sk-estimator input.sk-toggleable__control:checked~label.sk-toggleable__label {background-color: #d4ebff;}#sk-container-id-3 div.sk-label input.sk-toggleable__control:checked~label.sk-toggleable__label {background-color: #d4ebff;}#sk-container-id-3 input.sk-hidden--visually {border: 0;clip: rect(1px 1px 1px 1px);clip: rect(1px, 1px, 1px, 1px);height: 1px;margin: -1px;overflow: hidden;padding: 0;position: absolute;width: 1px;}#sk-container-id-3 div.sk-estimator {font-family: monospace;background-color: #f0f8ff;border: 1px dotted black;border-radius: 0.25em;box-sizing: border-box;margin-bottom: 0.5em;}#sk-container-id-3 div.sk-estimator:hover {background-color: #d4ebff;}#sk-container-id-3 div.sk-parallel-item::after {content: \"\";width: 100%;border-bottom: 1px solid gray;flex-grow: 1;}#sk-container-id-3 div.sk-label:hover label.sk-toggleable__label {background-color: #d4ebff;}#sk-container-id-3 div.sk-serial::before {content: \"\";position: absolute;border-left: 1px solid gray;box-sizing: border-box;top: 0;bottom: 0;left: 50%;z-index: 0;}#sk-container-id-3 div.sk-serial {display: flex;flex-direction: column;align-items: center;background-color: white;padding-right: 0.2em;padding-left: 0.2em;position: relative;}#sk-container-id-3 div.sk-item {position: relative;z-index: 1;}#sk-container-id-3 div.sk-parallel {display: flex;align-items: stretch;justify-content: center;background-color: white;position: relative;}#sk-container-id-3 div.sk-item::before, #sk-container-id-3 div.sk-parallel-item::before {content: \"\";position: absolute;border-left: 1px solid gray;box-sizing: border-box;top: 0;bottom: 0;left: 50%;z-index: -1;}#sk-container-id-3 div.sk-parallel-item {display: flex;flex-direction: column;z-index: 1;position: relative;background-color: white;}#sk-container-id-3 div.sk-parallel-item:first-child::after {align-self: flex-end;width: 50%;}#sk-container-id-3 div.sk-parallel-item:last-child::after {align-self: flex-start;width: 50%;}#sk-container-id-3 div.sk-parallel-item:only-child::after {width: 0;}#sk-container-id-3 div.sk-dashed-wrapped {border: 1px dashed gray;margin: 0 0.4em 0.5em 0.4em;box-sizing: border-box;padding-bottom: 0.4em;background-color: white;}#sk-container-id-3 div.sk-label label {font-family: monospace;font-weight: bold;display: inline-block;line-height: 1.2em;}#sk-container-id-3 div.sk-label-container {text-align: center;}#sk-container-id-3 div.sk-container {/* jupyter's `normalize.less` sets `[hidden] { display: none; }` but bootstrap.min.css set `[hidden] { display: none !important; }` so we also need the `!important` here to be able to override the default hidden behavior on the sphinx rendered scikit-learn.org. See: https://github.com/scikit-learn/scikit-learn/issues/21755 */display: inline-block !important;position: relative;}#sk-container-id-3 div.sk-text-repr-fallback {display: none;}</style><div id=\"sk-container-id-3\" class=\"sk-top-container\"><div class=\"sk-text-repr-fallback\"><pre>CategoricalNB()</pre><b>In a Jupyter environment, please rerun this cell to show the HTML representation or trust the notebook. <br />On GitHub, the HTML representation is unable to render, please try loading this page with nbviewer.org.</b></div><div class=\"sk-container\" hidden><div class=\"sk-item\"><div class=\"sk-estimator sk-toggleable\"><input class=\"sk-toggleable__control sk-hidden--visually\" id=\"sk-estimator-id-3\" type=\"checkbox\" checked><label for=\"sk-estimator-id-3\" class=\"sk-toggleable__label sk-toggleable__label-arrow\">CategoricalNB</label><div class=\"sk-toggleable__content\"><pre>CategoricalNB()</pre></div></div></div></div></div>"
      ],
      "text/plain": [
       "CategoricalNB()"
      ]
     },
     "execution_count": 82,
     "metadata": {},
     "output_type": "execute_result"
    }
   ],
   "source": [
    "C.fit(X,Y)"
   ]
  },
  {
   "cell_type": "code",
   "execution_count": 83,
   "id": "2f2b9752",
   "metadata": {},
   "outputs": [],
   "source": [
    "pred=C.predict(X)"
   ]
  },
  {
   "cell_type": "code",
   "execution_count": 84,
   "id": "b80d904a",
   "metadata": {},
   "outputs": [
    {
     "name": "stdout",
     "output_type": "stream",
     "text": [
      "Prediction:  [0 0 1 1 1 1 1 0 1 1]\n"
     ]
    }
   ],
   "source": [
    "print(\"Prediction: \",pred)\n"
   ]
  },
  {
   "cell_type": "code",
   "execution_count": 85,
   "id": "7bb82a63",
   "metadata": {},
   "outputs": [],
   "source": [
    "accuracy=accuracy_score(Y,pred)"
   ]
  },
  {
   "cell_type": "code",
   "execution_count": 86,
   "id": "153b8496",
   "metadata": {},
   "outputs": [
    {
     "data": {
      "text/plain": [
       "0.9"
      ]
     },
     "execution_count": 86,
     "metadata": {},
     "output_type": "execute_result"
    }
   ],
   "source": [
    "accuracy"
   ]
  },
  {
   "cell_type": "code",
   "execution_count": null,
   "id": "df771f32",
   "metadata": {},
   "outputs": [],
   "source": []
  }
 ],
 "metadata": {
  "kernelspec": {
   "display_name": "Python 3 (ipykernel)",
   "language": "python",
   "name": "python3"
  },
  "language_info": {
   "codemirror_mode": {
    "name": "ipython",
    "version": 3
   },
   "file_extension": ".py",
   "mimetype": "text/x-python",
   "name": "python",
   "nbconvert_exporter": "python",
   "pygments_lexer": "ipython3",
   "version": "3.11.4"
  }
 },
 "nbformat": 4,
 "nbformat_minor": 5
}
