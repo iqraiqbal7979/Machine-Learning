{
 "cells": [
  {
   "cell_type": "code",
   "execution_count": null,
   "id": "4ff25774",
   "metadata": {},
   "outputs": [],
   "source": []
  },
  {
   "cell_type": "code",
   "execution_count": null,
   "id": "2e80bc2b",
   "metadata": {},
   "outputs": [],
   "source": []
  },
  {
   "cell_type": "code",
   "execution_count": 1,
   "id": "f57558b2",
   "metadata": {},
   "outputs": [],
   "source": [
    "import pandas as pd\n",
    "from sklearn.tree import DecisionTreeClassifier  \n",
    "from sklearn.ensemble import RandomForestClassifier  \n",
    "from sklearn.metrics import accuracy_score"
   ]
  },
  {
   "cell_type": "markdown",
   "id": "35812604",
   "metadata": {},
   "source": [
    "# Question 1"
   ]
  },
  {
   "cell_type": "markdown",
   "id": "486e8c23",
   "metadata": {},
   "source": [
    "## By classification"
   ]
  },
  {
   "cell_type": "code",
   "execution_count": 2,
   "id": "cf21d157",
   "metadata": {},
   "outputs": [],
   "source": [
    "Train_D = {'X1': [60, 62, 67, 70, 71, 72, 75, 78],\n",
    "           'X2': [22, 25, 24, 20, 15, 14, 14, 11],\n",
    "           'Y': [0, 0, 0, 0, 1, 1, 1, 1]}\n",
    "\n",
    "test_D = {'X1': [61, 71, 73, 79],\n",
    "          'X2': [23, 19, 15, 13],\n",
    "          'Y': [0, 0, 1, 1]}"
   ]
  },
  {
   "cell_type": "code",
   "execution_count": 3,
   "id": "d11e12c7",
   "metadata": {},
   "outputs": [],
   "source": [
    "train_df = pd.DataFrame(Train_D)\n",
    "test_df = pd.DataFrame(test_D)\n"
   ]
  },
  {
   "cell_type": "code",
   "execution_count": 4,
   "id": "7ffbd7ad",
   "metadata": {},
   "outputs": [],
   "source": [
    "X_train = train_df[['X1', 'X2']]\n",
    "y_train = train_df['Y']\n",
    "\n",
    "X_test = test_df[['X1', 'X2']]\n",
    "y_test = test_df['Y']"
   ]
  },
  {
   "cell_type": "markdown",
   "id": "e7292364",
   "metadata": {},
   "source": [
    "## CART Decision Tree"
   ]
  },
  {
   "cell_type": "code",
   "execution_count": 5,
   "id": "61ca62f6",
   "metadata": {},
   "outputs": [
    {
     "name": "stdout",
     "output_type": "stream",
     "text": [
      "CART Decision Tree Accuracy: 1.0\n"
     ]
    }
   ],
   "source": [
    "cart_model = DecisionTreeClassifier()\n",
    "cart_model.fit(X_train, y_train)\n",
    "\n",
    "cart_predictions = cart_model.predict(X_test)\n",
    "cart_accuracy = accuracy_score(y_test, cart_predictions)\n",
    "print(\"CART Decision Tree Accuracy:\", cart_accuracy)"
   ]
  },
  {
   "cell_type": "markdown",
   "id": "26accd8d",
   "metadata": {},
   "source": [
    "## Random Forest"
   ]
  },
  {
   "cell_type": "code",
   "execution_count": 6,
   "id": "588b3b76",
   "metadata": {},
   "outputs": [
    {
     "name": "stdout",
     "output_type": "stream",
     "text": [
      "Random Forest Accuracy: 1.0\n"
     ]
    }
   ],
   "source": [
    "rf_model = RandomForestClassifier(n_estimators=100, random_state=42)\n",
    "rf_model.fit(X_train, y_train)\n",
    "rf_predictions = rf_model.predict(X_test)\n",
    "rf_accuracy = accuracy_score(y_test, rf_predictions)\n",
    "print(\"Random Forest Accuracy:\", rf_accuracy)"
   ]
  },
  {
   "cell_type": "markdown",
   "id": "8264906b",
   "metadata": {},
   "source": [
    "## compare"
   ]
  },
  {
   "cell_type": "code",
   "execution_count": 7,
   "id": "37832030",
   "metadata": {},
   "outputs": [
    {
     "name": "stdout",
     "output_type": "stream",
     "text": [
      "Random Forest performs better.\n"
     ]
    }
   ],
   "source": [
    "if cart_accuracy > rf_accuracy:\n",
    "    print(\"CART Decision Tree performs better.\")\n",
    "else:\n",
    "    print(\"Random Forest performs better.\")"
   ]
  },
  {
   "cell_type": "markdown",
   "id": "4f59d852",
   "metadata": {},
   "source": [
    "# Question 2"
   ]
  },
  {
   "cell_type": "markdown",
   "id": "fe573b6d",
   "metadata": {},
   "source": [
    "## by Regression"
   ]
  },
  {
   "cell_type": "code",
   "execution_count": 8,
   "id": "b94459cf",
   "metadata": {},
   "outputs": [],
   "source": [
    "import pandas as pd\n",
    "from sklearn.tree import DecisionTreeRegressor \n",
    "from sklearn.ensemble import RandomForestRegressor\n",
    "from sklearn.metrics import mean_squared_error\n"
   ]
  },
  {
   "cell_type": "code",
   "execution_count": 9,
   "id": "3c74b6d2",
   "metadata": {},
   "outputs": [],
   "source": [
    "Train_D = {'X1': [60, 62, 67, 70, 71],\n",
    "           'X2': [22, 25, 24, 20, 15],\n",
    "           'Y': [140, 155, 159, 179, 192]}\n",
    "\n",
    "test_D = {'X1': [72, 75, 78],\n",
    "          'X2': [14, 14, 11],\n",
    "          'Y': [200, 212, 215]}"
   ]
  },
  {
   "cell_type": "code",
   "execution_count": 10,
   "id": "b03e072b",
   "metadata": {},
   "outputs": [],
   "source": [
    "train_df = pd.DataFrame(Train_D)\n",
    "test_df = pd.DataFrame(test_D)\n"
   ]
  },
  {
   "cell_type": "code",
   "execution_count": 11,
   "id": "f7d7b873",
   "metadata": {},
   "outputs": [],
   "source": [
    "X_train = train_df[['X1', 'X2']]\n",
    "y_train = train_df['Y']\n",
    "X_test = test_df[['X1', 'X2']]\n",
    "y_test = test_df['Y']\n"
   ]
  },
  {
   "cell_type": "markdown",
   "id": "e7d821fb",
   "metadata": {},
   "source": [
    "# CART Decision Tree"
   ]
  },
  {
   "cell_type": "code",
   "execution_count": 12,
   "id": "e957f734",
   "metadata": {},
   "outputs": [],
   "source": [
    "cart_regressor = DecisionTreeRegressor()\n",
    "cart_regressor.fit(X_train, y_train)\n",
    "cart_predictions = cart_regressor.predict(X_test)\n"
   ]
  },
  {
   "cell_type": "markdown",
   "id": "212d3b0b",
   "metadata": {},
   "source": [
    "# Random Forest"
   ]
  },
  {
   "cell_type": "code",
   "execution_count": 13,
   "id": "5c6939ec",
   "metadata": {},
   "outputs": [],
   "source": [
    "rf_regressor = RandomForestRegressor(n_estimators=100, random_state=42)\n",
    "rf_regressor.fit(X_train, y_train)\n",
    "rf_predictions = rf_regressor.predict(X_test)\n"
   ]
  },
  {
   "cell_type": "code",
   "execution_count": 14,
   "id": "bd9e5ad2",
   "metadata": {},
   "outputs": [],
   "source": [
    "cart_mse = mean_squared_error(y_test, cart_predictions)\n",
    "rf_mse = mean_squared_error(y_test, rf_predictions)\n"
   ]
  },
  {
   "cell_type": "code",
   "execution_count": 15,
   "id": "d87b73b9",
   "metadata": {},
   "outputs": [
    {
     "name": "stdout",
     "output_type": "stream",
     "text": [
      "CART Decision Tree Regressor Predictions: [192. 192. 192.]\n",
      "Random Forest Regressor Predictions: [184.64 184.64 184.64]\n"
     ]
    }
   ],
   "source": [
    "print(\"CART Decision Tree Regressor Predictions:\", cart_predictions)\n",
    "print(\"Random Forest Regressor Predictions:\", rf_predictions)"
   ]
  },
  {
   "cell_type": "code",
   "execution_count": 16,
   "id": "0ca8bfd2",
   "metadata": {},
   "outputs": [
    {
     "name": "stdout",
     "output_type": "stream",
     "text": [
      "\n",
      "CART Decision Tree Regressor MSE: 331.0\n",
      "Random Forest Regressor MSE: 635.4096000000006\n"
     ]
    }
   ],
   "source": [
    "print(\"\\nCART Decision Tree Regressor MSE:\", cart_mse)\n",
    "print(\"Random Forest Regressor MSE:\", rf_mse)"
   ]
  },
  {
   "cell_type": "code",
   "execution_count": 17,
   "id": "560729f2",
   "metadata": {},
   "outputs": [
    {
     "name": "stdout",
     "output_type": "stream",
     "text": [
      "CART Regressor performs better.\n"
     ]
    }
   ],
   "source": [
    "if cart_mse < rf_mse:\n",
    "    print(\"CART Regressor performs better.\")\n",
    "else:\n",
    "    print(\"Random Forest Regressor performs better.\")"
   ]
  },
  {
   "cell_type": "code",
   "execution_count": null,
   "id": "48f0bd5b",
   "metadata": {},
   "outputs": [],
   "source": []
  }
 ],
 "metadata": {
  "kernelspec": {
   "display_name": "Python 3 (ipykernel)",
   "language": "python",
   "name": "python3"
  },
  "language_info": {
   "codemirror_mode": {
    "name": "ipython",
    "version": 3
   },
   "file_extension": ".py",
   "mimetype": "text/x-python",
   "name": "python",
   "nbconvert_exporter": "python",
   "pygments_lexer": "ipython3",
   "version": "3.11.4"
  }
 },
 "nbformat": 4,
 "nbformat_minor": 5
}
